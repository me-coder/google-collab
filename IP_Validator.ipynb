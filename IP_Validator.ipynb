{
  "nbformat": 4,
  "nbformat_minor": 0,
  "metadata": {
    "colab": {
      "name": "Untitled",
      "provenance": [],
      "collapsed_sections": [],
      "authorship_tag": "ABX9TyNslqgB8qaUamBBDW1qR3Em",
      "include_colab_link": true
    },
    "kernelspec": {
      "name": "python3",
      "display_name": "Python 3"
    }
  },
  "cells": [
    {
      "cell_type": "markdown",
      "metadata": {
        "id": "view-in-github",
        "colab_type": "text"
      },
      "source": [
        "<a href=\"https://colab.research.google.com/github/me-coder/google-collab/blob/main/IP_Validator.ipynb\" target=\"_parent\"><img src=\"https://colab.research.google.com/assets/colab-badge.svg\" alt=\"Open In Colab\"/></a>"
      ]
    },
    {
      "cell_type": "markdown",
      "metadata": {
        "id": "uRfdNqCTi3uL"
      },
      "source": [
        "# Problem\r\n",
        "\r\n",
        "You will be provided with N lines of what are possibly IP addresses.\r\n",
        "You need to detect if the text contained in each of the lines represents an:  \r\n",
        "(a)IPv4 address  \r\n",
        "(b)IPv6 address  \r\n",
        "(c)None of these  \r\n",
        "\r\n",
        "## Background\r\n",
        "### IPv4\r\n",
        "[IPv4](https://en.wikipedia.org/wiki/IPv4) was the first publicly used Internet Protocol, which used 4 byte addresses which permitted for 232 addresses.  \r\n",
        "The typical format of an IPv4 address is A.B.C.D, where A, B, C and D are Integers lying between 0 and 255 (both inclusive).\r\n",
        "\r\n",
        "### IPv6\r\n",
        "[IPv6](https://en.wikipedia.org/wiki/IPv6), with 128 bits was developed to permit the expansion of the address space.  \r\n",
        "> To quote from the linked article:  \r\n",
        "  1.  The 128 bits of an IPv6 address are represented in 8 groups of 16 bits each.  \r\n",
        "  1.  Each group is written as 4 hexadecimal digits and the groups are separated by colons (:).  \r\n",
        "  E.g. The address 2001:0db8:0000:0000:0000:ff00:0042:8329 is an example of this representation.\r\n",
        "  1.  Consecutive sections of zeros will be left as they are.  \r\n",
        "  E.g An IPv6 value such as \"...:0:...\" or \"...:5:...\" is address-wise identical to \"...:0000:...\" or \"...:0005:....\".\r\n",
        "  1.  Leading zeros may be omitted in writing the address.\r\n",
        "\r\n",
        "\r\n",
        "## Input Format\r\n",
        "An integer N such that N <= 50.  \r\n",
        "This is followed by N lines such that each the text in each line is either an IPv4 address or an IPv6 address, or a chunk of text which does not equal either of these.  \r\n",
        "There will be no extra text or whitespace leading or trailing the IP address in a line (if it is an IP address). The number of characters in each line will not exceed 500.  \r\n",
        "\r\n",
        "## Output Format\r\n",
        "N lines.\r\n",
        "The **_i_**<sup>th</sup> output line should equal either of  \r\n",
        "(a)IPv4  \r\n",
        "(b)IPv6  \r\n",
        "(c)Neither\r\n",
        "depending on what you detected the ith input line to be.\r\n",
        "\r\n",
        "## Sample Input\r\n",
        "3  \r\n",
        "This line has junk text.  \r\n",
        "121.18.19.20  \r\n",
        "2001:0db8:0000:0000:0000:ff00:0042:8329  \r\n",
        "\r\n",
        "## Sample Output\r\n",
        "Neither  \r\n",
        "IPv4  \r\n",
        "IPv6  "
      ]
    },
    {
      "cell_type": "markdown",
      "metadata": {
        "id": "uh6sFLC2v8f4"
      },
      "source": [
        "# Sample Set 1\r\n",
        "7  \r\n",
        "1050:1000:1000:a000:5:600:300c:326b  \r\n",
        "1050:1000:2000:ab00:5:600:300c:326a  \r\n",
        "1050:1000:3000:abc0:5:600:300c:326c  \r\n",
        "1051:1000:4000:abcd:5:600:300c:326b  \r\n",
        "22.231.113.64  \r\n",
        "22.231.113.164  \r\n",
        "222.231.113.64  \r\n",
        "\r\n",
        "\r\n",
        "# Sample Set 2\r\n",
        "35  \r\n",
        "1050:0:0:0:5:600:300c:326b  \r\n",
        "1050:0:0:0:5:600:300c:326a  \r\n",
        "1050:0:0:0:5:600:300c:326c  \r\n",
        "1051:0:0:0:5:600:300c:326b  \r\n",
        "22.231.113.64  \r\n",
        "22.231.113.164  \r\n",
        "255.231.111.64  \r\n",
        "253.231.111.64  \r\n",
        "1050:10:0:0:5:600:300c:326b  \r\n",
        "1050:10:0:0:5:600:300c:326a  \r\n",
        "1050:10:0:0:5:600:300c:326c  \r\n",
        "1051:10:0:0:5:600:300c:326b  \r\n",
        "22.21.113.61  \r\n",
        "22.21.113.162  \r\n",
        "255.21.111.63  \r\n",
        "253.21.111.69  \r\n",
        "1050:10:0:0:15:600:300c:326b  \r\n",
        "1050:10:0:10:5:600:300c:326a  \r\n",
        "1050:10:10:0:5:600:300c:326c  \r\n",
        "1051:110:0:0:5:600:300c:326b  \r\n",
        "22.211.113.64  \r\n",
        "22.212.113.164  \r\n",
        "255.213.111.64  \r\n",
        "253.214.111.64  \r\n",
        "1050:10:0:0:15:600:300c:326k  \r\n",
        "1050:10:0:0:15:600:300c:326g  \r\n",
        "1050:10:0:0:15:600:300c:326h  \r\n",
        "1050:10:0:0:15:600:300c:326i  \r\n",
        "22.211.113.364  \r\n",
        "22.212.113.3164  \r\n",
        "255.213.111.464  \r\n",
        "253.214.111.564  \r\n",
        "not an ip address  \r\n",
        "not an ipv4 Address  \r\n",
        "Not an IPv5 Address  "
      ]
    },
    {
      "cell_type": "code",
      "metadata": {
        "colab": {
          "base_uri": "https://localhost:8080/"
        },
        "id": "YzBSehp_uaMi",
        "outputId": "6f9d8ef3-023e-470b-fc63-dcf5daa29c89"
      },
      "source": [
        "#@title Input for IP validation\n",
        "\n",
        "input_for_ip = '253.214.111.564' #@param {type:\"string\"}\n",
        "print(f\"{input_for_ip}\")\n"
      ],
      "execution_count": 7,
      "outputs": [
        {
          "output_type": "stream",
          "text": [
            "253.214.111.564\n"
          ],
          "name": "stdout"
        }
      ]
    },
    {
      "cell_type": "markdown",
      "metadata": {
        "id": "c4QmANOruSeB"
      },
      "source": [
        "# The Solution"
      ]
    },
    {
      "cell_type": "code",
      "metadata": {
        "id": "VLL0FI9_uL-h"
      },
      "source": [
        "import ipaddress\r\n",
        "\r\n",
        "    try:\r\n",
        "      if ipaddress.IPv4Address == type(ipaddress.ip_address(input_for_ip)):\r\n",
        "        print(\"IPv4\")\r\n",
        "      else:\r\n",
        "        print(\"IPv6\")\r\n",
        "    except ValueError as e:\r\n",
        "      print(\"Neither\")\r\n"
      ],
      "execution_count": null,
      "outputs": []
    },
    {
      "cell_type": "markdown",
      "metadata": {
        "id": "3MRGCHMowVAf"
      },
      "source": [
        "# Reference\r\n",
        "[HackerRank: IP Address Validation](https://www.hackerrank.com/challenges/ip-address-validation/problem)  "
      ]
    }
  ]
}